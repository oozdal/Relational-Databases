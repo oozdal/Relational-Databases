{
 "cells": [
  {
   "cell_type": "code",
   "execution_count": 1,
   "metadata": {},
   "outputs": [],
   "source": [
    "import psycopg2"
   ]
  },
  {
   "cell_type": "code",
   "execution_count": 3,
   "metadata": {},
   "outputs": [
    {
     "name": "stdin",
     "output_type": "stream",
     "text": [
      "What is the order number?\n",
      " 1105910\n",
      "What is the order type: Retail or Wholesale?\n",
      " Retail\n",
      "What is the customer's name?\n",
      " Syman Mapstone\n",
      "What is the product number?\n",
      " EB521\n",
      "What is the product name?\n",
      " Understanding Artificial Intelligence\n",
      "How many were bought?\n",
      " 3\n",
      "What is the price of the product?\n",
      " 19.5\n",
      "What is the discount, if there is one?\n",
      " 0\n"
     ]
    },
    {
     "name": "stdout",
     "output_type": "stream",
     "text": [
      "CUST_NAME = Syman Mapstone\n",
      "ORDER_TOTAL = 58.5 \n",
      "\n",
      "Data inserted!\n"
     ]
    }
   ],
   "source": [
    "def insert_sale(conn, order_num, order_type, cust_name, prod_number,\n",
    "    prod_name, quantity, price, discount):\n",
    "    \n",
    "    order_total = quantity * price\n",
    "    if discount != 0:\n",
    "        order_total = order_total * discount\n",
    "    sale_data = (order_num, order_type, cust_name, prod_number, prod_name, \n",
    "                 quantity, price, discount, order_total)\n",
    "    cur = conn.cursor()\n",
    "    \n",
    "    cur.execute('''DELETE FROM SALES WHERE ORDER_NUM=1105910''')\n",
    "    cur.execute('''INSERT INTO SALES(ORDER_NUM, ORDER_TYPE, CUST_NAME,\n",
    "        PROD_NUMBER, PROD_NAME, QUANTITY, PRICE, DISCOUNT, ORDER_TOTAL)\n",
    "        VALUES (%s, %s, %s, %s, %s, %s, %s, %s, %s)''', sale_data)\n",
    "    conn.commit()\n",
    "    \n",
    "    cur.execute('''SELECT CUST_NAME, ORDER_TOTAL FROM SALES\n",
    "        WHERE ORDER_NUM=%s;''', (order_num,))\n",
    "    \n",
    "    rows = cur.fetchall()\n",
    "    for row in rows:\n",
    "        print(\"CUST_NAME =\", row[0])\n",
    "        print(\"ORDER_TOTAL =\", row[1], \"\\n\")\n",
    "    \n",
    "if __name__ == '__main__':\n",
    "    conn = psycopg2.connect(database=\"red30\",\n",
    "         user=\"postgres\",\n",
    "         password = \"password\",\n",
    "         host=\"localhost\",\n",
    "         port=\"5432\")\n",
    "    \n",
    "    order_num   = int(input(\"What is the order number?\\n\"))\n",
    "    order_type  = input(\"What is the order type: Retail or Wholesale?\\n\")\n",
    "    cust_name   = input(\"What is the customer's name?\\n\")\n",
    "    prod_number = input(\"What is the product number?\\n\")\n",
    "    prod_name   = input(\"What is the product name?\\n\")\n",
    "    quantity    = float(input(\"How many were bought?\\n\"))\n",
    "    price       = float(input(\"What is the price of the product?\\n\"))\n",
    "    discount    = float(input(\"What is the discount, if there is one?\\n\"))\n",
    "\n",
    "    insert_sale(conn, order_num, order_type, cust_name, prod_number, prod_name, \n",
    "        quantity, price, discount)\n",
    "\n",
    "    print(\"Data inserted!\")\n",
    "        \n",
    "    conn.close() "
   ]
  },
  {
   "cell_type": "code",
   "execution_count": null,
   "metadata": {},
   "outputs": [],
   "source": []
  }
 ],
 "metadata": {
  "kernelspec": {
   "display_name": "Python 3",
   "language": "python",
   "name": "python3"
  },
  "language_info": {
   "codemirror_mode": {
    "name": "ipython",
    "version": 3
   },
   "file_extension": ".py",
   "mimetype": "text/x-python",
   "name": "python",
   "nbconvert_exporter": "python",
   "pygments_lexer": "ipython3",
   "version": "3.8.3"
  }
 },
 "nbformat": 4,
 "nbformat_minor": 4
}
