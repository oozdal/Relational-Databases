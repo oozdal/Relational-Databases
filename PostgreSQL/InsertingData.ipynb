{
 "cells": [
  {
   "cell_type": "code",
   "execution_count": 1,
   "metadata": {},
   "outputs": [],
   "source": [
    "import psycopg2"
   ]
  },
  {
   "cell_type": "code",
   "execution_count": 2,
   "metadata": {},
   "outputs": [],
   "source": [
    "conn = psycopg2.connect(database=\"red30\",\n",
    "                user=\"postgres\",\n",
    "                password=\"password\",\n",
    "                host=\"localhost\",\n",
    "                port=\"5432\")"
   ]
  },
  {
   "cell_type": "code",
   "execution_count": 3,
   "metadata": {},
   "outputs": [
    {
     "name": "stdout",
     "output_type": "stream",
     "text": [
      "[(1100934, 'Wholesale', 'Gusikowski Group', 'BP102', 'Bsquare Robot Blueprint', 10, 8.99, 1.8, 88.1), (1100935, 'Retail', 'Spencer Educators', 'DK204', 'BYOD-300', 2, 89.0, 0.0, 178.0), (1100936, 'Wholesale', 'Schinner Inc.', 'TV801', 'Aerial Security', 10, 36.99, 7.4, 362.5), (1100937, 'Retail', 'Saxon Laviss', 'RK602', 'BYOR-1000', 1, 189.0, 0.0, 189.0), (1100938, 'Retail', 'Wilderman Technologies', 'EB502', 'Building Your First Robot', 4, 24.95, 0.0, 99.8), (1100939, 'Wholesale', 'Turcotte Corp', 'DS302', 'DC-304 Drone', 79, 395.0, 79.0, 31126.0), (1100940, 'Retail', 'Kovacek Bernhard', 'TV803', 'Cloud Computing', 1, 29.99, 0.0, 29.99), (1100941, 'Retail', 'Antonina Noton', 'DS306', 'DX-145 Drone', 2, 250.0, 0.0, 500.0), (1100942, 'Retail', 'Frederik Pantecost', 'EB507', 'Drone Building Essentials', 1, 13.99, 0.0, 13.99), (1100943, 'Wholesale', 'Hettinger and Sons', 'BP104', 'Cat Robot Blueprint', 6, 4.99, 1.0, 28.94)]\n"
     ]
    }
   ],
   "source": [
    "cursor =  conn.cursor()\n",
    "\n",
    "cursor.execute(\"SELECT * FROM SALES LIMIT 10\")\n",
    "print(cursor.fetchall())\n",
    "\n",
    "conn.commit()\n",
    "conn.close()"
   ]
  },
  {
   "cell_type": "code",
   "execution_count": 6,
   "metadata": {},
   "outputs": [
    {
     "name": "stdout",
     "output_type": "stream",
     "text": [
      "CUST_NAME = Syman Mapstone\n",
      "ORDER_TOTAL= 58.5 \n",
      "\n"
     ]
    }
   ],
   "source": [
    "conn = psycopg2.connect(database=\"red30\",\n",
    "                user=\"postgres\",\n",
    "                password=\"password\",\n",
    "                host=\"localhost\",\n",
    "                port=\"5432\")\n",
    "\n",
    "cursor =  conn.cursor()\n",
    "\n",
    "cursor.execute('''INSERT INTO SALES(ORDER_NUM, ORDER_TYPE, CUST_NAME, PROD_NUMBER, PROD_NAME,\n",
    "            QUANTITY, PRICE, DISCOUNT, ORDER_TOTAL) VALUES\n",
    "            (1105910, 'Retail', 'Syman Mapstone', 'EB521',\n",
    "            'Understanding Artificial Intelligence', 3, 19.5, 0, 58.5)''')\n",
    "\n",
    "conn.commit()\n",
    "\n",
    "cursor.execute('SELECT CUST_NAME, ORDER_TOTAL from SALES WHERE ORDER_NUM=1105910')\n",
    "rows = cursor.fetchall()\n",
    "\n",
    "for row in rows:\n",
    "    print(\"CUST_NAME =\", row[0])\n",
    "    print(\"ORDER_TOTAL=\", row[1], \"\\n\")\n",
    "    \n",
    "conn.close()"
   ]
  },
  {
   "cell_type": "code",
   "execution_count": null,
   "metadata": {},
   "outputs": [],
   "source": []
  }
 ],
 "metadata": {
  "kernelspec": {
   "display_name": "Python 3",
   "language": "python",
   "name": "python3"
  },
  "language_info": {
   "codemirror_mode": {
    "name": "ipython",
    "version": 3
   },
   "file_extension": ".py",
   "mimetype": "text/x-python",
   "name": "python",
   "nbconvert_exporter": "python",
   "pygments_lexer": "ipython3",
   "version": "3.8.3"
  }
 },
 "nbformat": 4,
 "nbformat_minor": 4
}
