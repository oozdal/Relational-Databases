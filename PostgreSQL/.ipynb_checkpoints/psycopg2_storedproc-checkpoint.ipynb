{
 "cells": [
  {
   "cell_type": "code",
   "execution_count": 2,
   "metadata": {},
   "outputs": [],
   "source": [
    "import psycopg2"
   ]
  },
  {
   "cell_type": "code",
   "execution_count": 6,
   "metadata": {},
   "outputs": [
    {
     "name": "stdout",
     "output_type": "stream",
     "text": [
      "(1105910, 'Retail', 'Syman Mapstone', 'EB521', 'Understanding Artificial Intelligence', 3, 19.5, 0.0, 58.5)\n"
     ]
    }
   ],
   "source": [
    "if __name__ == \"__main__\":\n",
    "    conn = psycopg2.connect(database=\"red30\",\n",
    "        user=\"postgres\",\n",
    "        password=\"password\",\n",
    "        host=\"localhost\",\n",
    "        port=\"5432\")\n",
    "\n",
    "    conn.autocommit = True\n",
    "    \n",
    "    cur = conn.cursor()\n",
    "    \n",
    "    cur.execute('''CALL return_nondiscounted_item (%s, %s)''', (1105910, 1))\n",
    "    \n",
    "    cur.execute('''SELECT * FROM sales WHERE order_num = 1105910;''')\n",
    "    rows = cur.fetchall()\n",
    "\n",
    "    for row in rows:\n",
    "        print(row) \n",
    "    \n",
    "    # How to Call Postgres Function: \n",
    "    # cur.callproc('return_nondiscounted_item', (1105910, 1))\n",
    "\n",
    "    conn.close()"
   ]
  },
  {
   "cell_type": "code",
   "execution_count": 7,
   "metadata": {},
   "outputs": [
    {
     "name": "stdout",
     "output_type": "stream",
     "text": [
      "(1105910, 'Retail', 'Syman Mapstone', 'EB521', 'Understanding Artificial Intelligence', 2, 19.5, 0.0, 39.0)\n"
     ]
    }
   ],
   "source": [
    "if __name__ == \"__main__\":\n",
    "    conn = psycopg2.connect(database=\"red30\",\n",
    "        user=\"postgres\",\n",
    "        password=\"password\",\n",
    "        host=\"localhost\",\n",
    "        port=\"5432\")\n",
    "\n",
    "    conn.autocommit = True\n",
    "    \n",
    "    cur = conn.cursor()\n",
    "    \n",
    "    cur.execute('''CALL return_nondiscounted_item (%s, %s)''', (1105910, 1))\n",
    "    \n",
    "    cur.execute('''SELECT * FROM sales WHERE order_num = 1105910;''')\n",
    "    rows = cur.fetchall()\n",
    "\n",
    "    for row in rows:\n",
    "        print(row) \n",
    "    \n",
    "    # How to Call Postgres Function: \n",
    "    # cur.callproc('return_nondiscounted_item', (1105910, 1))\n",
    "\n",
    "    conn.close()"
   ]
  },
  {
   "cell_type": "code",
   "execution_count": null,
   "metadata": {},
   "outputs": [],
   "source": []
  }
 ],
 "metadata": {
  "kernelspec": {
   "display_name": "Python 3",
   "language": "python",
   "name": "python3"
  },
  "language_info": {
   "codemirror_mode": {
    "name": "ipython",
    "version": 3
   },
   "file_extension": ".py",
   "mimetype": "text/x-python",
   "name": "python",
   "nbconvert_exporter": "python",
   "pygments_lexer": "ipython3",
   "version": "3.8.3"
  }
 },
 "nbformat": 4,
 "nbformat_minor": 4
}
