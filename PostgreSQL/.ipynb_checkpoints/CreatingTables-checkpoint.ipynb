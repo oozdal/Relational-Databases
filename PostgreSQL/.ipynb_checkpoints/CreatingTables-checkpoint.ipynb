{
 "cells": [
  {
   "cell_type": "code",
   "execution_count": 8,
   "metadata": {},
   "outputs": [],
   "source": [
    "import psycopg2"
   ]
  },
  {
   "cell_type": "code",
   "execution_count": 9,
   "metadata": {},
   "outputs": [],
   "source": [
    "conn = psycopg2.connect(database=\"red30\",\n",
    "                user=\"postgres\",\n",
    "                password=\"password\",\n",
    "                host=\"localhost\",\n",
    "                port=\"5432\")"
   ]
  },
  {
   "cell_type": "code",
   "execution_count": 10,
   "metadata": {},
   "outputs": [],
   "source": [
    "cursor =  conn.cursor()\n",
    "\n",
    "cursor.execute('''CREATE TABLE Sales\n",
    "        (ORDER_NUM INT PRIMARY KEY,\n",
    "            ORDER_TYPE TEXT,\n",
    "            CUST_NAME TEXT,\n",
    "            PROD_NUMBER TEXT,\n",
    "            PROD_NAME TEXT,\n",
    "            QUANTITY INT,\n",
    "            PRICE REAL,\n",
    "            DISCOUNT REAL,\n",
    "            ORDER_TOTAL REAL);''')\n",
    "\n",
    "conn.commit()\n",
    "conn.close()"
   ]
  },
  {
   "cell_type": "code",
   "execution_count": null,
   "metadata": {},
   "outputs": [],
   "source": []
  }
 ],
 "metadata": {
  "kernelspec": {
   "display_name": "Python 3",
   "language": "python",
   "name": "python3"
  },
  "language_info": {
   "codemirror_mode": {
    "name": "ipython",
    "version": 3
   },
   "file_extension": ".py",
   "mimetype": "text/x-python",
   "name": "python",
   "nbconvert_exporter": "python",
   "pygments_lexer": "ipython3",
   "version": "3.8.3"
  }
 },
 "nbformat": 4,
 "nbformat_minor": 4
}
