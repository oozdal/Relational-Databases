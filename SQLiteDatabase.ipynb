{
 "cells": [
  {
   "cell_type": "code",
   "execution_count": 8,
   "metadata": {},
   "outputs": [
    {
     "name": "stdout",
     "output_type": "stream",
     "text": [
      "[('tmccoyl@hplussport.com',), ('jruizm@hplussport.com',), ('scozn@hplussport.com',), ('jalvarezo@hplussport.com',), ('abutlerp@hplussport.com',)]\n",
      "[(1, 'Tina', 'Mccoy', 'tmccoyl@hplussport.com'), (2, 'Joan', 'Ruiz', 'jruizm@hplussport.com'), (3, 'Sara', 'Cox', 'scozn@hplussport.com'), (4, 'Jessica', 'Alvarez', 'jalvarezo@hplussport.com'), (5, 'Amanda', 'Butler', 'abutlerp@hplussport.com')]\n"
     ]
    }
   ],
   "source": [
    "import sqlite3\n",
    "\n",
    "connection = sqlite3.connect('users-sqlite.db')\n",
    "\n",
    "cursor = connection.cursor()\n",
    "\n",
    "cursor.execute('''CREATE TABLE IF NOT EXISTS Users\n",
    "(user_id INTEGER PRIMARY KEY AUTOINCREMENT, first_name TEXT, last_name TEXT,\n",
    "    email_address TEXT)''')\n",
    "\n",
    "usersToInsert = [('Tina','Mccoy','tmccoyl@hplussport.com'),\n",
    "                 ('Joan','Ruiz','jruizm@hplussport.com'),\n",
    "                 ('Sara','Cox','scozn@hplussport.com'),\n",
    "                 ('Jessica','Alvarez','jalvarezo@hplussport.com'),\n",
    "                 ('Amanda','Butler',  'abutlerp@hplussport.com')]\n",
    "\n",
    "cursor.executemany('''INSERT INTO Users(first_name, last_name, email_address)\n",
    "                VALUES (?,?,?)''', usersToInsert)\n",
    "\n",
    "cursor.execute(\"SELECT email_address from Users\")\n",
    "print(cursor.fetchall())\n",
    "\n",
    "cursor.execute(\"SELECT * FROM Users\")\n",
    "print(cursor.fetchall())\n",
    "\n",
    "connection.commit()\n",
    "connection.close()"
   ]
  },
  {
   "cell_type": "code",
   "execution_count": 12,
   "metadata": {},
   "outputs": [
    {
     "name": "stdout",
     "output_type": "stream",
     "text": [
      "[('tmccoyl@hplussport.com',), ('jruizm@hplussport.com',), ('scozn@hplussport.com',), ('jalvarezo@hplussport.com',), ('abutlerp@hplussport.com',)]\n"
     ]
    }
   ],
   "source": [
    "import sqlalchemy as db \n",
    "\n",
    "engine = db.create_engine('sqlite:///users-sqlalchemy.db')\n",
    "\n",
    "metadata = db.MetaData()\n",
    "\n",
    "connection = engine.connect()\n",
    "\n",
    "users = db.Table('Users',metadata, \n",
    "            db.Column('user_id', db.Integer, primary_key=True),\n",
    "            db.Column('first_name', db.Text),\n",
    "            db.Column('last_name', db.Text),\n",
    "            db.Column('email_address', db.Text))\n",
    "            \n",
    "metadata.create_all(engine) \n",
    "\n",
    "insertion_query = users.insert().values([\n",
    "            {\"first_name\":\"Tina\",\"last_name\":\"Mccoy\",\"email_address\":\"tmccoyl@hplussport.com\"},\n",
    "            {\"first_name\":\"Joan\",\"last_name\":\"Ruiz\",\"email_address\":\"jruizm@hplussport.com\"},\n",
    "            {\"first_name\":\"Sara\",\"last_name\":\"Cox\",\"email_address\":\"scozn@hplussport.com\"},\n",
    "            {\"first_name\":\"Jessica\",\"last_name\":\"Alvarez\",\"email_address\":\"jalvarezo@hplussport.com\"},\n",
    "            {\"first_name\":\"Amanda\",\"last_name\":\"Butler\",\"email_address\":\"abutlerp@hplussport.com\"}\n",
    "            ])\n",
    "\n",
    "connection.execute(insertion_query)\n",
    "             \n",
    "selection_query  = db.select([users.columns.email_address])\n",
    "selection_result = connection.execute((selection_query))             \n",
    "             \n",
    "print(selection_result.fetchall())             "
   ]
  },
  {
   "cell_type": "code",
   "execution_count": null,
   "metadata": {},
   "outputs": [],
   "source": []
  }
 ],
 "metadata": {
  "kernelspec": {
   "display_name": "Python 3",
   "language": "python",
   "name": "python3"
  },
  "language_info": {
   "codemirror_mode": {
    "name": "ipython",
    "version": 3
   },
   "file_extension": ".py",
   "mimetype": "text/x-python",
   "name": "python",
   "nbconvert_exporter": "python",
   "pygments_lexer": "ipython3",
   "version": "3.8.3"
  }
 },
 "nbformat": 4,
 "nbformat_minor": 4
}
