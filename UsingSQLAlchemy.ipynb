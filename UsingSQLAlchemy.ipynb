{
 "cells": [
  {
   "cell_type": "code",
   "execution_count": 2,
   "metadata": {},
   "outputs": [],
   "source": [
    "import sqlalchemy as db"
   ]
  },
  {
   "cell_type": "code",
   "execution_count": 4,
   "metadata": {},
   "outputs": [
    {
     "name": "stdout",
     "output_type": "stream",
     "text": [
      "('Taxi Driver', 'Martin Scorsese', 1976)\n",
      "[('Taxi Driver', 'Martin Scorsese', 1976), ('Pulp Fiction', 'Quentin Tarantino', 1994)]\n"
     ]
    }
   ],
   "source": [
    "engine = db.create_engine('sqlite:///movies.db')\n",
    "\n",
    "connection = engine.connect()\n",
    "\n",
    "metadata = db.MetaData()\n",
    "\n",
    "movies = db.Table('Movies', metadata, autoload=True, autoload_with=engine)\n",
    "\n",
    "query = db.select([movies])\n",
    "\n",
    "result_proxy = connection.execute(query)\n",
    "\n",
    "result_set = result_proxy.fetchall()\n",
    "\n",
    "print(result_set[0])\n",
    "print(result_set[:2])"
   ]
  },
  {
   "cell_type": "code",
   "execution_count": 9,
   "metadata": {},
   "outputs": [
    {
     "name": "stdout",
     "output_type": "stream",
     "text": [
      "('Taxi Driver', 'Martin Scorsese', 1976)\n"
     ]
    }
   ],
   "source": [
    "query = db.select([movies]).where(movies.columns.Director == \"Martin Scorsese\")\n",
    "\n",
    "result_proxy = connection.execute(query)\n",
    "\n",
    "result_set = result_proxy.fetchall()\n",
    "\n",
    "print(result_set[0])"
   ]
  },
  {
   "cell_type": "code",
   "execution_count": 22,
   "metadata": {},
   "outputs": [
    {
     "name": "stdout",
     "output_type": "stream",
     "text": [
      "[('Taxi Driver', 'Martin Scorsese', 1976), ('Pulp Fiction', 'Quentin Tarantino', 1994), ('Back to the Future', 'Steven Spielberg', 1985), ('Moonrise Kingdom', 'Wes Anderson', 2012), ('Psycho', 'Alfed Hitchcock', 1960)]\n"
     ]
    }
   ],
   "source": [
    "query = movies.insert().values(Title=\"Psycho\", Director=\"Alfed Hitchcock\", Year=\"1960\")\n",
    "\n",
    "connection.execute(query)\n",
    "\n",
    "query = db.select([movies])\n",
    "result_proxy =  connection.execute(query)\n",
    "result_set = result_proxy.fetchall()\n",
    "\n",
    "print(result_set)"
   ]
  },
  {
   "cell_type": "code",
   "execution_count": 23,
   "metadata": {},
   "outputs": [
    {
     "name": "stdout",
     "output_type": "stream",
     "text": [
      "[('Taxi Driver', 'Martin Scorsese', 1976), ('Pulp Fiction', 'Quentin Tarantino', 1994), ('Back to the Future', 'Steven Spielberg', 1985), ('Moonrise Kingdom', 'Wes Anderson', 2012)]\n"
     ]
    }
   ],
   "source": [
    "query = movies.delete().where(movies.columns.Director == \"Alfed Hitchcock\")\n",
    "\n",
    "connection.execute(query)\n",
    "\n",
    "query = db.select([movies])\n",
    "result_proxy =  connection.execute(query)\n",
    "result_set = result_proxy.fetchall()\n",
    "\n",
    "print(result_set)"
   ]
  },
  {
   "cell_type": "code",
   "execution_count": 24,
   "metadata": {},
   "outputs": [
    {
     "name": "stdout",
     "output_type": "stream",
     "text": [
      "[('Taxi Driver', 'Martin Scorsese', 1976), ('Pulp Fiction', 'Quentin Tarantino', 1994), ('Back to the Future', 'Steven Spielberg', 1985), ('Moonrise Kingdom', 'Wes Anderson', 2012), ('Psycho', 'Alfed Hitchcock', 1960)]\n"
     ]
    }
   ],
   "source": [
    "query = movies.insert().values(Title=\"Psycho\", Director=\"Alfed Hitchcock\", Year=\"1960\")\n",
    "\n",
    "connection.execute(query)\n",
    "\n",
    "query = db.select([movies])\n",
    "result_proxy =  connection.execute(query)\n",
    "result_set = result_proxy.fetchall()\n",
    "\n",
    "print(result_set)"
   ]
  },
  {
   "cell_type": "code",
   "execution_count": null,
   "metadata": {},
   "outputs": [],
   "source": []
  }
 ],
 "metadata": {
  "kernelspec": {
   "display_name": "Python 3",
   "language": "python",
   "name": "python3"
  },
  "language_info": {
   "codemirror_mode": {
    "name": "ipython",
    "version": 3
   },
   "file_extension": ".py",
   "mimetype": "text/x-python",
   "name": "python",
   "nbconvert_exporter": "python",
   "pygments_lexer": "ipython3",
   "version": "3.8.3"
  }
 },
 "nbformat": 4,
 "nbformat_minor": 4
}
