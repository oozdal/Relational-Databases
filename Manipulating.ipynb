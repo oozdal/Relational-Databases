{
 "cells": [
  {
   "cell_type": "code",
   "execution_count": 2,
   "metadata": {},
   "outputs": [
    {
     "name": "stdout",
     "output_type": "stream",
     "text": [
      "('Taxi Driver', 'Martin Scorsese', 1976)\n"
     ]
    }
   ],
   "source": [
    "import sqlite3\n",
    "\n",
    "connection = sqlite3.connect('movies.db')\n",
    "\n",
    "cursor = connection.cursor()\n",
    "\n",
    "cursor.execute(\"INSERT INTO Movies VALUES ('Taxi Driver', 'Martin Scorsese', 1976)\")\n",
    "\n",
    "cursor.execute(\"SELECT * FROM Movies\")\n",
    "\n",
    "print(cursor.fetchone())\n",
    "\n",
    "connection.commit()\n",
    "connection.close()"
   ]
  },
  {
   "cell_type": "code",
   "execution_count": 5,
   "metadata": {},
   "outputs": [
    {
     "name": "stdout",
     "output_type": "stream",
     "text": [
      "[('Taxi Driver', 'Martin Scorsese', 1976), ('Pulp Fiction', 'Quentin Tarantino', 1994), ('Back to the Future', 'Steven Spielberg', 1985), ('Moonrise Kingdom', 'Wes Anderson', 2012)]\n"
     ]
    }
   ],
   "source": [
    "connection = sqlite3.connect('movies.db')\n",
    "\n",
    "cursor = connection.cursor()\n",
    "\n",
    "famousFilms = [('Pulp Fiction', 'Quentin Tarantino', 1994),\n",
    " ('Back to the Future', 'Steven Spielberg', 1985),\n",
    " ('Moonrise Kingdom', 'Wes Anderson', 2012)]\n",
    "\n",
    "cursor.executemany('Insert INTO Movies VALUES (?,?,?)', famousFilms)\n",
    "\n",
    "records = cursor.execute(\"SELECT * FROM Movies\")\n",
    "\n",
    "print(cursor.fetchall())\n",
    "\n",
    "for record in records:\n",
    "    print(record)\n",
    "    \n",
    "connection.commit()\n",
    "connection.close()    "
   ]
  },
  {
   "cell_type": "code",
   "execution_count": 7,
   "metadata": {},
   "outputs": [
    {
     "name": "stdout",
     "output_type": "stream",
     "text": [
      "[('Back to the Future', 'Steven Spielberg', 1985)]\n"
     ]
    }
   ],
   "source": [
    "connection = sqlite3.connect('movies.db')\n",
    "\n",
    "cursor = connection.cursor()\n",
    "\n",
    "release_year = (1985 ,)\n",
    "\n",
    "cursor.execute(\"SELECT * FROM Movies WHERE year=?\", release_year)\n",
    "\n",
    "print(cursor.fetchall())\n",
    "\n",
    "connection.commit()\n",
    "connection.close()  "
   ]
  },
  {
   "cell_type": "code",
   "execution_count": null,
   "metadata": {},
   "outputs": [],
   "source": []
  },
  {
   "cell_type": "code",
   "execution_count": null,
   "metadata": {},
   "outputs": [],
   "source": []
  }
 ],
 "metadata": {
  "kernelspec": {
   "display_name": "Python 3",
   "language": "python",
   "name": "python3"
  },
  "language_info": {
   "codemirror_mode": {
    "name": "ipython",
    "version": 3
   },
   "file_extension": ".py",
   "mimetype": "text/x-python",
   "name": "python",
   "nbconvert_exporter": "python",
   "pygments_lexer": "ipython3",
   "version": "3.8.3"
  }
 },
 "nbformat": 4,
 "nbformat_minor": 4
}
